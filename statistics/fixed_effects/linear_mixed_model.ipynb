{
 "cells": [
  {
   "cell_type": "markdown",
   "id": "0e46a269-7c49-4623-b32d-54f94de4a3df",
   "metadata": {},
   "source": [
    "Reviewing method from:\n",
    "\n",
    "https://nbviewer.jupyter.org/urls/umich.box.com/shared/static/lc6uf6dmabmitjbup3yt.ipynb"
   ]
  },
  {
   "cell_type": "code",
   "execution_count": 1,
   "id": "c7125a06-e4df-4d69-a026-67fb9d6d5ec6",
   "metadata": {},
   "outputs": [],
   "source": [
    "import numpy as np\n",
    "import pandas as pd\n",
    "import statsmodels.api as sm\n",
    "from statsmodels.regression.mixed_linear_model import MixedLM\n",
    "\n",
    "MixedLM = sm.regression.mixed_linear_model.MixedLM"
   ]
  },
  {
   "cell_type": "code",
   "execution_count": 2,
   "id": "4d2ef109-9754-4928-8eb2-78bc975cc9b4",
   "metadata": {},
   "outputs": [],
   "source": [
    "fname = \"http://vincentarelbundock.github.io/Rdatasets/csv/Ecdat/VietNamI.csv\"\n",
    "data = pd.read_csv(fname)"
   ]
  },
  {
   "cell_type": "code",
   "execution_count": 3,
   "id": "ab99bf7a-a188-4c07-b717-aecb2d5da36d",
   "metadata": {},
   "outputs": [],
   "source": [
    "data[\"age\"] = np.exp(data[\"age\"])\n",
    "data[\"educ\"] = (data[\"educ\"] - data[\"educ\"].mean()) / data[\"educ\"].std()"
   ]
  },
  {
   "cell_type": "code",
   "execution_count": 4,
   "id": "bcbc89a3-ea6b-49e6-b3da-ed4e94dff7d8",
   "metadata": {},
   "outputs": [
    {
     "data": {
      "text/html": [
       "<div>\n",
       "<style scoped>\n",
       "    .dataframe tbody tr th:only-of-type {\n",
       "        vertical-align: middle;\n",
       "    }\n",
       "\n",
       "    .dataframe tbody tr th {\n",
       "        vertical-align: top;\n",
       "    }\n",
       "\n",
       "    .dataframe thead th {\n",
       "        text-align: right;\n",
       "    }\n",
       "</style>\n",
       "<table border=\"1\" class=\"dataframe\">\n",
       "  <thead>\n",
       "    <tr style=\"text-align: right;\">\n",
       "      <th></th>\n",
       "      <th>Unnamed: 0</th>\n",
       "      <th>pharvis</th>\n",
       "      <th>lnhhexp</th>\n",
       "      <th>age</th>\n",
       "      <th>sex</th>\n",
       "      <th>married</th>\n",
       "      <th>educ</th>\n",
       "      <th>illness</th>\n",
       "      <th>injury</th>\n",
       "      <th>illdays</th>\n",
       "      <th>actdays</th>\n",
       "      <th>insurance</th>\n",
       "      <th>commune</th>\n",
       "    </tr>\n",
       "  </thead>\n",
       "  <tbody>\n",
       "    <tr>\n",
       "      <th>0</th>\n",
       "      <td>1</td>\n",
       "      <td>0</td>\n",
       "      <td>2.730363</td>\n",
       "      <td>42.999995</td>\n",
       "      <td>male</td>\n",
       "      <td>1</td>\n",
       "      <td>-0.720126</td>\n",
       "      <td>1</td>\n",
       "      <td>0</td>\n",
       "      <td>7</td>\n",
       "      <td>0</td>\n",
       "      <td>0</td>\n",
       "      <td>192</td>\n",
       "    </tr>\n",
       "    <tr>\n",
       "      <th>1</th>\n",
       "      <td>2</td>\n",
       "      <td>0</td>\n",
       "      <td>2.737248</td>\n",
       "      <td>19.000000</td>\n",
       "      <td>female</td>\n",
       "      <td>0</td>\n",
       "      <td>-1.755779</td>\n",
       "      <td>1</td>\n",
       "      <td>0</td>\n",
       "      <td>4</td>\n",
       "      <td>0</td>\n",
       "      <td>0</td>\n",
       "      <td>167</td>\n",
       "    </tr>\n",
       "    <tr>\n",
       "      <th>2</th>\n",
       "      <td>3</td>\n",
       "      <td>0</td>\n",
       "      <td>2.266935</td>\n",
       "      <td>13.000008</td>\n",
       "      <td>male</td>\n",
       "      <td>0</td>\n",
       "      <td>0.315526</td>\n",
       "      <td>0</td>\n",
       "      <td>0</td>\n",
       "      <td>0</td>\n",
       "      <td>0</td>\n",
       "      <td>1</td>\n",
       "      <td>76</td>\n",
       "    </tr>\n",
       "    <tr>\n",
       "      <th>3</th>\n",
       "      <td>4</td>\n",
       "      <td>1</td>\n",
       "      <td>2.392753</td>\n",
       "      <td>37.999994</td>\n",
       "      <td>female</td>\n",
       "      <td>1</td>\n",
       "      <td>-0.202300</td>\n",
       "      <td>1</td>\n",
       "      <td>0</td>\n",
       "      <td>3</td>\n",
       "      <td>0</td>\n",
       "      <td>1</td>\n",
       "      <td>123</td>\n",
       "    </tr>\n",
       "    <tr>\n",
       "      <th>4</th>\n",
       "      <td>5</td>\n",
       "      <td>1</td>\n",
       "      <td>3.105335</td>\n",
       "      <td>27.000004</td>\n",
       "      <td>male</td>\n",
       "      <td>1</td>\n",
       "      <td>-0.202300</td>\n",
       "      <td>1</td>\n",
       "      <td>0</td>\n",
       "      <td>10</td>\n",
       "      <td>0</td>\n",
       "      <td>0</td>\n",
       "      <td>148</td>\n",
       "    </tr>\n",
       "  </tbody>\n",
       "</table>\n",
       "</div>"
      ],
      "text/plain": [
       "   Unnamed: 0  pharvis   lnhhexp        age     sex  married      educ  \\\n",
       "0           1        0  2.730363  42.999995    male        1 -0.720126   \n",
       "1           2        0  2.737248  19.000000  female        0 -1.755779   \n",
       "2           3        0  2.266935  13.000008    male        0  0.315526   \n",
       "3           4        1  2.392753  37.999994  female        1 -0.202300   \n",
       "4           5        1  3.105335  27.000004    male        1 -0.202300   \n",
       "\n",
       "   illness  injury  illdays  actdays  insurance  commune  \n",
       "0        1       0        7        0          0      192  \n",
       "1        1       0        4        0          0      167  \n",
       "2        0       0        0        0          1       76  \n",
       "3        1       0        3        0          1      123  \n",
       "4        1       0       10        0          0      148  "
      ]
     },
     "execution_count": 4,
     "metadata": {},
     "output_type": "execute_result"
    }
   ],
   "source": [
    "data.head()"
   ]
  },
  {
   "cell_type": "code",
   "execution_count": 5,
   "id": "10074a54-2d2f-4a5e-be7d-b5963b1a75e0",
   "metadata": {},
   "outputs": [
    {
     "name": "stdout",
     "output_type": "stream",
     "text": [
      "          Mixed Linear Model Regression Results\n",
      "=========================================================\n",
      "Model:            MixedLM Dependent Variable: lnhhexp    \n",
      "No. Observations: 27765   Method:             REML       \n",
      "No. Groups:       194     Scale:              0.1822     \n",
      "Min. group size:  51      Log-Likelihood:     -16275.3316\n",
      "Max. group size:  206     Converged:          Yes        \n",
      "Mean group size:  143.1                                  \n",
      "---------------------------------------------------------\n",
      "               Coef.  Std.Err.   z    P>|z| [0.025 0.975]\n",
      "---------------------------------------------------------\n",
      "Intercept       2.603    0.032 82.309 0.000  2.541  2.665\n",
      "sex[T.male]    -0.005    0.005 -0.974 0.330 -0.015  0.005\n",
      "age            -0.001    0.000 -5.436 0.000 -0.001 -0.001\n",
      "married         0.017    0.007  2.591 0.010  0.004  0.030\n",
      "educ            0.124    0.003 40.620 0.000  0.118  0.130\n",
      "insurance       0.088    0.008 11.471 0.000  0.073  0.103\n",
      "injury          0.041    0.033  1.245 0.213 -0.024  0.105\n",
      "actdays        -0.008    0.003 -2.682 0.007 -0.013 -0.002\n",
      "Group Var       0.189    0.045                           \n",
      "=========================================================\n",
      "\n"
     ]
    }
   ],
   "source": [
    "fml = \"lnhhexp ~ age + sex + married + educ + insurance + injury + actdays\"\n",
    "\n",
    "mod_lme = MixedLM.from_formula(fml, groups=data[\"commune\"], data=data)\n",
    "mod_lme = mod_lme.fit()\n",
    "print(mod_lme.summary())"
   ]
  }
 ],
 "metadata": {
  "kernelspec": {
   "display_name": "Python 3",
   "language": "python",
   "name": "python3"
  },
  "language_info": {
   "codemirror_mode": {
    "name": "ipython",
    "version": 3
   },
   "file_extension": ".py",
   "mimetype": "text/x-python",
   "name": "python",
   "nbconvert_exporter": "python",
   "pygments_lexer": "ipython3",
   "version": "3.8.8"
  }
 },
 "nbformat": 4,
 "nbformat_minor": 5
}
